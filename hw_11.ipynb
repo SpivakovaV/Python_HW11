{
  "cells": [
    {
      "cell_type": "code",
      "execution_count": 1,
      "metadata": {
        "id": "QK-Xr84fQ7ic"
      },
      "outputs": [],
      "source": [
        "import numpy as np\n",
        "import matplotlib.pyplot as plt\n",
        "\n",
        "\n",
        "def f(x):\n",
        "    return -12*x**4*np.sin(np.cos(x)) - 18*x**3 + 5*x**2 + 10*x - 30"
      ]
    },
    {
      "cell_type": "code",
      "execution_count": null,
      "metadata": {
        "colab": {
          "base_uri": "https://localhost:8080/"
        },
        "id": "MPyWZzuxe05X",
        "outputId": "c517d32c-297e-4d7b-fab2-e768ba6b091a"
      },
      "outputs": [
        {
          "name": "stdout",
          "output_type": "stream",
          "text": [
            "[-1.44080722+0.72728863j -1.44080722-0.72728863j  0.69080722+0.69463993j\n",
            "  0.69080722-0.69463993j]\n"
          ]
        }
      ],
      "source": [
        "# 1 Определить корни\n",
        "\n",
        "roots = np.roots([-12, -18, 5, 10, -30])\n",
        "print(roots)"
      ]
    },
    {
      "cell_type": "code",
      "execution_count": 4,
      "metadata": {
        "colab": {
          "base_uri": "https://localhost:8080/"
        },
        "id": "le9SvWR3dDCl",
        "outputId": "f3d17490-6575-417b-c8a9-191b96639ec3"
      },
      "outputs": [
        {
          "name": "stdout",
          "output_type": "stream",
          "text": [
            "Функция возрастает на интервале [-250, -200]\n",
            "Функция возрастает на интервале [-200, -150]\n",
            "Функция возрастает на интервале [-150, -100]\n",
            "Функция возрастает на интервале [-100, -50]\n",
            "Функция возрастает на интервале [-50, 0]\n",
            "Функция возрастает на интервале [250, 300]\n"
          ]
        }
      ],
      "source": [
        "# 2 Найти интервалы, на которых функция возрастает\n",
        "\n",
        "def find_intervals(f, a, b, step):\n",
        "  x = a\n",
        "  while x <= b:\n",
        "    y1 = f(x)\n",
        "    y2 = f(x + step)\n",
        "    if y1 < y2:\n",
        "      print(f\"Функция возрастает на интервале [{x}, {x + step}]\")\n",
        "    x += step\n",
        "\n",
        "find_intervals(f, -250, 250, 50)"
      ]
    },
    {
      "cell_type": "code",
      "execution_count": 5,
      "metadata": {
        "colab": {
          "base_uri": "https://localhost:8080/"
        },
        "id": "FMZyJgg4dPK5",
        "outputId": "3afc6ea5-ab6f-46a4-9910-b7625fc0e272"
      },
      "outputs": [
        {
          "name": "stdout",
          "output_type": "stream",
          "text": [
            "Функция убывает на интервале [0, 50]\n",
            "Функция убывает на интервале [50, 100]\n",
            "Функция убывает на интервале [100, 150]\n",
            "Функция убывает на интервале [150, 200]\n",
            "Функция убывает на интервале [200, 250]\n"
          ]
        }
      ],
      "source": [
        "# 3 Найти интервалы, на которых функция убывает\n",
        "\n",
        "def find_intervals(f, a, b, step):\n",
        "  x = a\n",
        "  while x <= b:\n",
        "    y1 = f(x)\n",
        "    y2 = f(x + step)\n",
        "    if y1 > y2:\n",
        "      print(f\"Функция убывает на интервале [{x}, {x + step}]\")\n",
        "    x += step\n",
        "\n",
        "find_intervals(f, -250, 250, 50)"
      ]
    },
    {
      "cell_type": "code",
      "execution_count": null,
      "metadata": {
        "colab": {
          "base_uri": "https://localhost:8080/",
          "height": 290
        },
        "id": "9xlwhSNBbsUZ",
        "outputId": "576431db-31c3-44d5-fc05-65deda1d1202"
      },
      "outputs": [
        {
          "data": {
            "image/png": "[encoded data removed]",
            "text/plain": [
              "<Figure size 432x288 with 1 Axes>"
            ]
          },
          "metadata": {
            "needs_background": "light"
          },
          "output_type": "display_data"
        }
      ],
      "source": [
        "# 4 Построить график\n",
        "\n",
        "# Выбираем начальное и конечное значение x\n",
        "x_start = -250\n",
        "x_end = 250\n",
        "\n",
        "# Создаем массив с значениями x на заданном интервале\n",
        "x_values = np.linspace(x_start, x_end, 150)\n",
        "\n",
        "plt.plot(x_values, f(x_values))\n",
        "plt.grid()\n",
        "plt.xlabel('x')\n",
        "plt.ylabel('y')\n",
        "\n",
        "# Отобразим график\n",
        "plt.show()"
      ]
    },
    {
      "cell_type": "code",
      "execution_count": 13,
      "metadata": {
        "colab": {
          "base_uri": "https://localhost:8080/"
        },
        "id": "lftST4iDMNaD",
        "outputId": "c0596f43-483b-4900-e1b5-71451d4121a2"
      },
      "outputs": [
        {
          "name": "stdout",
          "output_type": "stream",
          "text": [
            "Функция f(x) > 0 на интервале [300, 350]\n",
            "Функция f(x) > 0 на интервале [350, 400]\n",
            "Функция f(x) > 0 на интервале [400, 450]\n",
            "Функция f(x) > 0 на интервале [450, 500]\n",
            "Функция f(x) > 0 на интервале [500, 550]\n",
            "Функция f(x) > 0 на интервале [550, 600]\n",
            "Функция f(x) > 0 на интервале [600, 650]\n",
            "Функция f(x) > 0 на интервале [650, 700]\n",
            "Функция f(x) > 0 на интервале [700, 750]\n",
            "Функция f(x) > 0 на интервале [750, 800]\n",
            "Функция f(x) > 0 на интервале [800, 850]\n",
            "Функция f(x) > 0 на интервале [850, 900]\n",
            "Функция f(x) > 0 на интервале [1500, 1550]\n",
            "Функция f(x) > 0 на интервале [1550, 1600]\n",
            "Функция f(x) > 0 на интервале [1600, 1650]\n",
            "Функция f(x) > 0 на интервале [1650, 1700]\n",
            "Функция f(x) > 0 на интервале [1700, 1750]\n",
            "Функция f(x) > 0 на интервале [1750, 1800]\n",
            "Функция f(x) > 0 на интервале [1800, 1850]\n",
            "Функция f(x) > 0 на интервале [1850, 1900]\n",
            "Функция f(x) > 0 на интервале [1900, 1950]\n",
            "Функция f(x) > 0 на интервале [1950, 2000]\n",
            "Функция f(x) > 0 на интервале [2000, 2050]\n",
            "Функция f(x) > 0 на интервале [2050, 2100]\n"
          ]
        }
      ],
      "source": [
        "# 6 Определить промежутки, на котором f > 0\n",
        "\n",
        "def find_intervals(f, a, b, step):\n",
        "  x = a\n",
        "  while x <= b:\n",
        "    if f(x) > 0:\n",
        "      print(f\"Функция f(x) > 0 на интервале [{x}, {x + step}]\")\n",
        "    x += step\n",
        "\n",
        "find_intervals(f, -250, 2500, 50)\n"
      ]
    },
    {
      "cell_type": "code",
      "execution_count": 14,
      "metadata": {
        "colab": {
          "base_uri": "https://localhost:8080/"
        },
        "id": "8_vUdhKAMpAs",
        "outputId": "77e25724-6494-4417-dea4-445a4a066e9f"
      },
      "outputs": [
        {
          "name": "stdout",
          "output_type": "stream",
          "text": [
            "Функция f(x) < 0 на интервале [-250, -200]\n",
            "Функция f(x) < 0 на интервале [-200, -150]\n",
            "Функция f(x) < 0 на интервале [-150, -100]\n",
            "Функция f(x) < 0 на интервале [-100, -50]\n",
            "Функция f(x) < 0 на интервале [-50, 0]\n",
            "Функция f(x) < 0 на интервале [0, 50]\n",
            "Функция f(x) < 0 на интервале [50, 100]\n",
            "Функция f(x) < 0 на интервале [100, 150]\n",
            "Функция f(x) < 0 на интервале [150, 200]\n",
            "Функция f(x) < 0 на интервале [200, 250]\n",
            "Функция f(x) < 0 на интервале [250, 300]\n"
          ]
        }
      ],
      "source": [
        "# 7 Определить промежутки, на котором f < 0\n",
        "\n",
        "def find_intervals(f, a, b, step):\n",
        "  x = a\n",
        "  while x <= b:\n",
        "    if f(x) < 0:\n",
        "      print(f\"Функция f(x) < 0 на интервале [{x}, {x + step}]\")\n",
        "    x += step\n",
        "\n",
        "find_intervals(f, -250, 250, 50)"
      ]
    }
  ],
  "metadata": {
    "colab": {
      "provenance": []
    },
    "kernelspec": {
      "display_name": "Python 3",
      "language": "python",
      "name": "python3"
    },
    "language_info": {
      "name": "python",
      "version": "3.11.1 (tags/v3.11.1:a7a450f, Dec  6 2022, 19:58:39) [MSC v.1934 64 bit (AMD64)]"
    },
    "vscode": {
      "interpreter": {
        "hash": "49ecb3f0fdef7e19e056dc33d79febc04e7d6e6ede6842a635daf2a598897be7"
      }
    }
  },
  "nbformat": 4,
  "nbformat_minor": 0
}
  
